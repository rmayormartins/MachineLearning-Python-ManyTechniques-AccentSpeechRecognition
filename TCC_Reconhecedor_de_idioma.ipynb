{
  "nbformat": 4,
  "nbformat_minor": 0,
  "metadata": {
    "colab": {
      "name": "TCC_Reconhecedor_de_idioma.ipynb",
      "provenance": [],
      "collapsed_sections": []
    },
    "kernelspec": {
      "name": "python3",
      "display_name": "Python 3"
    }
  },
  "cells": [
    {
      "cell_type": "code",
      "metadata": {
        "colab": {
          "base_uri": "https://localhost:8080/"
        },
        "id": "UnU3DuXLwN_X",
        "outputId": "f1af377f-c209-4f6b-9e2b-3862e983c359"
      },
      "source": [
        "from google.colab import drive\n",
        "\n",
        "drive.mount('/content/gdrive')"
      ],
      "execution_count": null,
      "outputs": [
        {
          "output_type": "stream",
          "text": [
            "Mounted at /content/gdrive\n"
          ],
          "name": "stdout"
        }
      ]
    },
    {
      "cell_type": "code",
      "metadata": {
        "colab": {
          "base_uri": "https://localhost:8080/"
        },
        "id": "0txgetguxYtn",
        "outputId": "32b1f92c-d8ea-4e6c-f950-905a78d82a46"
      },
      "source": [
        "!ls \"/content/gdrive/My Drive/Colab Notebooks/\""
      ],
      "execution_count": null,
      "outputs": [
        {
          "output_type": "stream",
          "text": [
            " accent-mfcc-data-1.csv\n",
            " Arvore-Thresholds.ipynb\n",
            "'Classificador de Arvores1.ipynb'\n",
            "'Classificador de Arvores2.ipynb'\n",
            "'Classificador de Arvores3.ipynb'\n",
            "'Classificador de Arvores4.ipynb'\n",
            "'Classificador de Arvores5.ipynb'\n",
            "'Classificador de Arvores6.ipynb'\n",
            "'Classificador de Arvores7.ipynb'\n",
            "'Classificador de Arvores8.ipynb'\n",
            "'Classificador de Arvores9.ipynb'\n",
            "'Classificador de Arvores9_semdeep.ipynb'\n",
            "'Cópia de Classificador Arvores FastAI.ipynb'\n",
            "'Cópia de Classificador de Arvores7.ipynb'\n",
            " dataset_folhas\n",
            " HOG_SVM_Folhas1.ipynb\n",
            " Iris_Classifica.ipynb\n",
            " iris_csv.csv\n",
            " OpenCV1.ipynb\n",
            " Puxa_dataset_UCI.ipynb\n",
            " Puxando_dataset_gdrive.ipynb\n",
            " Speech_Recognition.ipynb\n",
            " TCC_Reconhecedor_de_idioma.ipynb\n",
            " Untitled0.ipynb\n",
            " US-M-5-9.wav\n",
            " Usodegit.ipynb\n"
          ],
          "name": "stdout"
        }
      ]
    },
    {
      "cell_type": "code",
      "metadata": {
        "colab": {
          "base_uri": "https://localhost:8080/",
          "height": 419
        },
        "id": "md7EeagUxmIb",
        "outputId": "3326e480-208c-446e-86bf-240ec6517b95"
      },
      "source": [
        "import pandas as pd\n",
        "pd.read_csv('/content/gdrive/My Drive/Colab Notebooks/accent-mfcc-data-1.csv')"
      ],
      "execution_count": null,
      "outputs": [
        {
          "output_type": "execute_result",
          "data": {
            "text/html": [
              "<div>\n",
              "<style scoped>\n",
              "    .dataframe tbody tr th:only-of-type {\n",
              "        vertical-align: middle;\n",
              "    }\n",
              "\n",
              "    .dataframe tbody tr th {\n",
              "        vertical-align: top;\n",
              "    }\n",
              "\n",
              "    .dataframe thead th {\n",
              "        text-align: right;\n",
              "    }\n",
              "</style>\n",
              "<table border=\"1\" class=\"dataframe\">\n",
              "  <thead>\n",
              "    <tr style=\"text-align: right;\">\n",
              "      <th></th>\n",
              "      <th>language</th>\n",
              "      <th>X1</th>\n",
              "      <th>X2</th>\n",
              "      <th>X3</th>\n",
              "      <th>X4</th>\n",
              "      <th>X5</th>\n",
              "      <th>X6</th>\n",
              "      <th>X7</th>\n",
              "      <th>X8</th>\n",
              "      <th>X9</th>\n",
              "      <th>X10</th>\n",
              "      <th>X11</th>\n",
              "      <th>X12</th>\n",
              "    </tr>\n",
              "  </thead>\n",
              "  <tbody>\n",
              "    <tr>\n",
              "      <th>0</th>\n",
              "      <td>ES</td>\n",
              "      <td>7.071476</td>\n",
              "      <td>-6.512900</td>\n",
              "      <td>7.650800</td>\n",
              "      <td>11.150783</td>\n",
              "      <td>-7.657312</td>\n",
              "      <td>12.484021</td>\n",
              "      <td>-11.709772</td>\n",
              "      <td>3.426596</td>\n",
              "      <td>1.462715</td>\n",
              "      <td>-2.812753</td>\n",
              "      <td>0.866538</td>\n",
              "      <td>-5.244274</td>\n",
              "    </tr>\n",
              "    <tr>\n",
              "      <th>1</th>\n",
              "      <td>ES</td>\n",
              "      <td>10.982967</td>\n",
              "      <td>-5.157445</td>\n",
              "      <td>3.952060</td>\n",
              "      <td>11.529381</td>\n",
              "      <td>-7.638047</td>\n",
              "      <td>12.136098</td>\n",
              "      <td>-12.036247</td>\n",
              "      <td>3.491943</td>\n",
              "      <td>0.595441</td>\n",
              "      <td>-4.508811</td>\n",
              "      <td>2.332147</td>\n",
              "      <td>-6.221857</td>\n",
              "    </tr>\n",
              "    <tr>\n",
              "      <th>2</th>\n",
              "      <td>ES</td>\n",
              "      <td>7.827108</td>\n",
              "      <td>-5.477472</td>\n",
              "      <td>7.816257</td>\n",
              "      <td>9.187592</td>\n",
              "      <td>-7.172511</td>\n",
              "      <td>11.715299</td>\n",
              "      <td>-13.847214</td>\n",
              "      <td>4.574075</td>\n",
              "      <td>-1.687559</td>\n",
              "      <td>-7.204041</td>\n",
              "      <td>-0.011847</td>\n",
              "      <td>-6.463144</td>\n",
              "    </tr>\n",
              "    <tr>\n",
              "      <th>3</th>\n",
              "      <td>ES</td>\n",
              "      <td>6.744083</td>\n",
              "      <td>-5.688920</td>\n",
              "      <td>6.546789</td>\n",
              "      <td>9.000183</td>\n",
              "      <td>-6.924963</td>\n",
              "      <td>11.710766</td>\n",
              "      <td>-12.374388</td>\n",
              "      <td>6.169879</td>\n",
              "      <td>-0.544747</td>\n",
              "      <td>-6.019237</td>\n",
              "      <td>1.358559</td>\n",
              "      <td>-6.356441</td>\n",
              "    </tr>\n",
              "    <tr>\n",
              "      <th>4</th>\n",
              "      <td>ES</td>\n",
              "      <td>5.836843</td>\n",
              "      <td>-5.326557</td>\n",
              "      <td>7.472265</td>\n",
              "      <td>8.847440</td>\n",
              "      <td>-6.773244</td>\n",
              "      <td>12.677218</td>\n",
              "      <td>-12.315061</td>\n",
              "      <td>4.416344</td>\n",
              "      <td>0.193500</td>\n",
              "      <td>-3.644812</td>\n",
              "      <td>2.151239</td>\n",
              "      <td>-6.816310</td>\n",
              "    </tr>\n",
              "    <tr>\n",
              "      <th>...</th>\n",
              "      <td>...</td>\n",
              "      <td>...</td>\n",
              "      <td>...</td>\n",
              "      <td>...</td>\n",
              "      <td>...</td>\n",
              "      <td>...</td>\n",
              "      <td>...</td>\n",
              "      <td>...</td>\n",
              "      <td>...</td>\n",
              "      <td>...</td>\n",
              "      <td>...</td>\n",
              "      <td>...</td>\n",
              "      <td>...</td>\n",
              "    </tr>\n",
              "    <tr>\n",
              "      <th>324</th>\n",
              "      <td>US</td>\n",
              "      <td>-0.525273</td>\n",
              "      <td>-3.868338</td>\n",
              "      <td>3.548304</td>\n",
              "      <td>1.496249</td>\n",
              "      <td>3.490753</td>\n",
              "      <td>5.849887</td>\n",
              "      <td>-7.747027</td>\n",
              "      <td>9.738836</td>\n",
              "      <td>-11.754543</td>\n",
              "      <td>7.129909</td>\n",
              "      <td>0.209947</td>\n",
              "      <td>-1.946914</td>\n",
              "    </tr>\n",
              "    <tr>\n",
              "      <th>325</th>\n",
              "      <td>US</td>\n",
              "      <td>-2.094001</td>\n",
              "      <td>-1.073113</td>\n",
              "      <td>1.217397</td>\n",
              "      <td>-0.550790</td>\n",
              "      <td>2.666547</td>\n",
              "      <td>7.449942</td>\n",
              "      <td>-6.418064</td>\n",
              "      <td>10.907098</td>\n",
              "      <td>-11.134323</td>\n",
              "      <td>6.728373</td>\n",
              "      <td>2.461446</td>\n",
              "      <td>-0.026113</td>\n",
              "    </tr>\n",
              "    <tr>\n",
              "      <th>326</th>\n",
              "      <td>US</td>\n",
              "      <td>2.116909</td>\n",
              "      <td>-4.441482</td>\n",
              "      <td>5.350392</td>\n",
              "      <td>3.675396</td>\n",
              "      <td>2.715876</td>\n",
              "      <td>3.682670</td>\n",
              "      <td>-4.500850</td>\n",
              "      <td>11.798565</td>\n",
              "      <td>-12.031005</td>\n",
              "      <td>7.566142</td>\n",
              "      <td>-0.606010</td>\n",
              "      <td>-2.245129</td>\n",
              "    </tr>\n",
              "    <tr>\n",
              "      <th>327</th>\n",
              "      <td>US</td>\n",
              "      <td>0.299616</td>\n",
              "      <td>0.324844</td>\n",
              "      <td>3.299919</td>\n",
              "      <td>2.044040</td>\n",
              "      <td>3.634828</td>\n",
              "      <td>6.693840</td>\n",
              "      <td>-5.676224</td>\n",
              "      <td>12.000518</td>\n",
              "      <td>-11.912901</td>\n",
              "      <td>4.664406</td>\n",
              "      <td>1.197789</td>\n",
              "      <td>-2.230275</td>\n",
              "    </tr>\n",
              "    <tr>\n",
              "      <th>328</th>\n",
              "      <td>US</td>\n",
              "      <td>3.214254</td>\n",
              "      <td>-3.135152</td>\n",
              "      <td>1.122691</td>\n",
              "      <td>4.712444</td>\n",
              "      <td>5.926518</td>\n",
              "      <td>6.915566</td>\n",
              "      <td>-5.799727</td>\n",
              "      <td>10.858532</td>\n",
              "      <td>-11.659845</td>\n",
              "      <td>10.605734</td>\n",
              "      <td>0.349482</td>\n",
              "      <td>-5.983281</td>\n",
              "    </tr>\n",
              "  </tbody>\n",
              "</table>\n",
              "<p>329 rows × 13 columns</p>\n",
              "</div>"
            ],
            "text/plain": [
              "    language         X1        X2  ...        X10       X11       X12\n",
              "0         ES   7.071476 -6.512900  ...  -2.812753  0.866538 -5.244274\n",
              "1         ES  10.982967 -5.157445  ...  -4.508811  2.332147 -6.221857\n",
              "2         ES   7.827108 -5.477472  ...  -7.204041 -0.011847 -6.463144\n",
              "3         ES   6.744083 -5.688920  ...  -6.019237  1.358559 -6.356441\n",
              "4         ES   5.836843 -5.326557  ...  -3.644812  2.151239 -6.816310\n",
              "..       ...        ...       ...  ...        ...       ...       ...\n",
              "324       US  -0.525273 -3.868338  ...   7.129909  0.209947 -1.946914\n",
              "325       US  -2.094001 -1.073113  ...   6.728373  2.461446 -0.026113\n",
              "326       US   2.116909 -4.441482  ...   7.566142 -0.606010 -2.245129\n",
              "327       US   0.299616  0.324844  ...   4.664406  1.197789 -2.230275\n",
              "328       US   3.214254 -3.135152  ...  10.605734  0.349482 -5.983281\n",
              "\n",
              "[329 rows x 13 columns]"
            ]
          },
          "metadata": {
            "tags": []
          },
          "execution_count": 3
        }
      ]
    },
    {
      "cell_type": "code",
      "metadata": {
        "id": "o2WG5oclxzRh"
      },
      "source": [
        "data = pd.read_csv('/content/gdrive/My Drive/Colab Notebooks/accent-mfcc-data-1.csv')"
      ],
      "execution_count": null,
      "outputs": []
    },
    {
      "cell_type": "code",
      "metadata": {
        "colab": {
          "base_uri": "https://localhost:8080/"
        },
        "id": "Ct3OANHuyrYN",
        "outputId": "8d3518c1-3cac-4841-b674-0968c08e757f"
      },
      "source": [
        "data.language.value_counts()"
      ],
      "execution_count": null,
      "outputs": [
        {
          "output_type": "execute_result",
          "data": {
            "text/plain": [
              "US    165\n",
              "UK     45\n",
              "GE     30\n",
              "IT     30\n",
              "FR     30\n",
              "ES     29\n",
              "Name: language, dtype: int64"
            ]
          },
          "metadata": {
            "tags": []
          },
          "execution_count": 5
        }
      ]
    },
    {
      "cell_type": "code",
      "metadata": {
        "id": "vMKUDl1gx8ss"
      },
      "source": [
        "from sklearn.preprocessing import LabelEncoder"
      ],
      "execution_count": null,
      "outputs": []
    },
    {
      "cell_type": "code",
      "metadata": {
        "id": "un9WTAFozekc"
      },
      "source": [
        "lb_make = LabelEncoder()\n",
        "data['language'] = lb_make.fit_transform(data['language'])"
      ],
      "execution_count": null,
      "outputs": []
    },
    {
      "cell_type": "code",
      "metadata": {
        "colab": {
          "base_uri": "https://localhost:8080/",
          "height": 419
        },
        "id": "ymUMbTrCznQG",
        "outputId": "84bda77d-30dc-42ee-e8da-c3ffba72cbb3"
      },
      "source": [
        "data.head(329)"
      ],
      "execution_count": null,
      "outputs": [
        {
          "output_type": "execute_result",
          "data": {
            "text/html": [
              "<div>\n",
              "<style scoped>\n",
              "    .dataframe tbody tr th:only-of-type {\n",
              "        vertical-align: middle;\n",
              "    }\n",
              "\n",
              "    .dataframe tbody tr th {\n",
              "        vertical-align: top;\n",
              "    }\n",
              "\n",
              "    .dataframe thead th {\n",
              "        text-align: right;\n",
              "    }\n",
              "</style>\n",
              "<table border=\"1\" class=\"dataframe\">\n",
              "  <thead>\n",
              "    <tr style=\"text-align: right;\">\n",
              "      <th></th>\n",
              "      <th>language</th>\n",
              "      <th>X1</th>\n",
              "      <th>X2</th>\n",
              "      <th>X3</th>\n",
              "      <th>X4</th>\n",
              "      <th>X5</th>\n",
              "      <th>X6</th>\n",
              "      <th>X7</th>\n",
              "      <th>X8</th>\n",
              "      <th>X9</th>\n",
              "      <th>X10</th>\n",
              "      <th>X11</th>\n",
              "      <th>X12</th>\n",
              "    </tr>\n",
              "  </thead>\n",
              "  <tbody>\n",
              "    <tr>\n",
              "      <th>0</th>\n",
              "      <td>0</td>\n",
              "      <td>7.071476</td>\n",
              "      <td>-6.512900</td>\n",
              "      <td>7.650800</td>\n",
              "      <td>11.150783</td>\n",
              "      <td>-7.657312</td>\n",
              "      <td>12.484021</td>\n",
              "      <td>-11.709772</td>\n",
              "      <td>3.426596</td>\n",
              "      <td>1.462715</td>\n",
              "      <td>-2.812753</td>\n",
              "      <td>0.866538</td>\n",
              "      <td>-5.244274</td>\n",
              "    </tr>\n",
              "    <tr>\n",
              "      <th>1</th>\n",
              "      <td>0</td>\n",
              "      <td>10.982967</td>\n",
              "      <td>-5.157445</td>\n",
              "      <td>3.952060</td>\n",
              "      <td>11.529381</td>\n",
              "      <td>-7.638047</td>\n",
              "      <td>12.136098</td>\n",
              "      <td>-12.036247</td>\n",
              "      <td>3.491943</td>\n",
              "      <td>0.595441</td>\n",
              "      <td>-4.508811</td>\n",
              "      <td>2.332147</td>\n",
              "      <td>-6.221857</td>\n",
              "    </tr>\n",
              "    <tr>\n",
              "      <th>2</th>\n",
              "      <td>0</td>\n",
              "      <td>7.827108</td>\n",
              "      <td>-5.477472</td>\n",
              "      <td>7.816257</td>\n",
              "      <td>9.187592</td>\n",
              "      <td>-7.172511</td>\n",
              "      <td>11.715299</td>\n",
              "      <td>-13.847214</td>\n",
              "      <td>4.574075</td>\n",
              "      <td>-1.687559</td>\n",
              "      <td>-7.204041</td>\n",
              "      <td>-0.011847</td>\n",
              "      <td>-6.463144</td>\n",
              "    </tr>\n",
              "    <tr>\n",
              "      <th>3</th>\n",
              "      <td>0</td>\n",
              "      <td>6.744083</td>\n",
              "      <td>-5.688920</td>\n",
              "      <td>6.546789</td>\n",
              "      <td>9.000183</td>\n",
              "      <td>-6.924963</td>\n",
              "      <td>11.710766</td>\n",
              "      <td>-12.374388</td>\n",
              "      <td>6.169879</td>\n",
              "      <td>-0.544747</td>\n",
              "      <td>-6.019237</td>\n",
              "      <td>1.358559</td>\n",
              "      <td>-6.356441</td>\n",
              "    </tr>\n",
              "    <tr>\n",
              "      <th>4</th>\n",
              "      <td>0</td>\n",
              "      <td>5.836843</td>\n",
              "      <td>-5.326557</td>\n",
              "      <td>7.472265</td>\n",
              "      <td>8.847440</td>\n",
              "      <td>-6.773244</td>\n",
              "      <td>12.677218</td>\n",
              "      <td>-12.315061</td>\n",
              "      <td>4.416344</td>\n",
              "      <td>0.193500</td>\n",
              "      <td>-3.644812</td>\n",
              "      <td>2.151239</td>\n",
              "      <td>-6.816310</td>\n",
              "    </tr>\n",
              "    <tr>\n",
              "      <th>...</th>\n",
              "      <td>...</td>\n",
              "      <td>...</td>\n",
              "      <td>...</td>\n",
              "      <td>...</td>\n",
              "      <td>...</td>\n",
              "      <td>...</td>\n",
              "      <td>...</td>\n",
              "      <td>...</td>\n",
              "      <td>...</td>\n",
              "      <td>...</td>\n",
              "      <td>...</td>\n",
              "      <td>...</td>\n",
              "      <td>...</td>\n",
              "    </tr>\n",
              "    <tr>\n",
              "      <th>324</th>\n",
              "      <td>5</td>\n",
              "      <td>-0.525273</td>\n",
              "      <td>-3.868338</td>\n",
              "      <td>3.548304</td>\n",
              "      <td>1.496249</td>\n",
              "      <td>3.490753</td>\n",
              "      <td>5.849887</td>\n",
              "      <td>-7.747027</td>\n",
              "      <td>9.738836</td>\n",
              "      <td>-11.754543</td>\n",
              "      <td>7.129909</td>\n",
              "      <td>0.209947</td>\n",
              "      <td>-1.946914</td>\n",
              "    </tr>\n",
              "    <tr>\n",
              "      <th>325</th>\n",
              "      <td>5</td>\n",
              "      <td>-2.094001</td>\n",
              "      <td>-1.073113</td>\n",
              "      <td>1.217397</td>\n",
              "      <td>-0.550790</td>\n",
              "      <td>2.666547</td>\n",
              "      <td>7.449942</td>\n",
              "      <td>-6.418064</td>\n",
              "      <td>10.907098</td>\n",
              "      <td>-11.134323</td>\n",
              "      <td>6.728373</td>\n",
              "      <td>2.461446</td>\n",
              "      <td>-0.026113</td>\n",
              "    </tr>\n",
              "    <tr>\n",
              "      <th>326</th>\n",
              "      <td>5</td>\n",
              "      <td>2.116909</td>\n",
              "      <td>-4.441482</td>\n",
              "      <td>5.350392</td>\n",
              "      <td>3.675396</td>\n",
              "      <td>2.715876</td>\n",
              "      <td>3.682670</td>\n",
              "      <td>-4.500850</td>\n",
              "      <td>11.798565</td>\n",
              "      <td>-12.031005</td>\n",
              "      <td>7.566142</td>\n",
              "      <td>-0.606010</td>\n",
              "      <td>-2.245129</td>\n",
              "    </tr>\n",
              "    <tr>\n",
              "      <th>327</th>\n",
              "      <td>5</td>\n",
              "      <td>0.299616</td>\n",
              "      <td>0.324844</td>\n",
              "      <td>3.299919</td>\n",
              "      <td>2.044040</td>\n",
              "      <td>3.634828</td>\n",
              "      <td>6.693840</td>\n",
              "      <td>-5.676224</td>\n",
              "      <td>12.000518</td>\n",
              "      <td>-11.912901</td>\n",
              "      <td>4.664406</td>\n",
              "      <td>1.197789</td>\n",
              "      <td>-2.230275</td>\n",
              "    </tr>\n",
              "    <tr>\n",
              "      <th>328</th>\n",
              "      <td>5</td>\n",
              "      <td>3.214254</td>\n",
              "      <td>-3.135152</td>\n",
              "      <td>1.122691</td>\n",
              "      <td>4.712444</td>\n",
              "      <td>5.926518</td>\n",
              "      <td>6.915566</td>\n",
              "      <td>-5.799727</td>\n",
              "      <td>10.858532</td>\n",
              "      <td>-11.659845</td>\n",
              "      <td>10.605734</td>\n",
              "      <td>0.349482</td>\n",
              "      <td>-5.983281</td>\n",
              "    </tr>\n",
              "  </tbody>\n",
              "</table>\n",
              "<p>329 rows × 13 columns</p>\n",
              "</div>"
            ],
            "text/plain": [
              "     language         X1        X2  ...        X10       X11       X12\n",
              "0           0   7.071476 -6.512900  ...  -2.812753  0.866538 -5.244274\n",
              "1           0  10.982967 -5.157445  ...  -4.508811  2.332147 -6.221857\n",
              "2           0   7.827108 -5.477472  ...  -7.204041 -0.011847 -6.463144\n",
              "3           0   6.744083 -5.688920  ...  -6.019237  1.358559 -6.356441\n",
              "4           0   5.836843 -5.326557  ...  -3.644812  2.151239 -6.816310\n",
              "..        ...        ...       ...  ...        ...       ...       ...\n",
              "324         5  -0.525273 -3.868338  ...   7.129909  0.209947 -1.946914\n",
              "325         5  -2.094001 -1.073113  ...   6.728373  2.461446 -0.026113\n",
              "326         5   2.116909 -4.441482  ...   7.566142 -0.606010 -2.245129\n",
              "327         5   0.299616  0.324844  ...   4.664406  1.197789 -2.230275\n",
              "328         5   3.214254 -3.135152  ...  10.605734  0.349482 -5.983281\n",
              "\n",
              "[329 rows x 13 columns]"
            ]
          },
          "metadata": {
            "tags": []
          },
          "execution_count": 8
        }
      ]
    },
    {
      "cell_type": "code",
      "metadata": {
        "colab": {
          "base_uri": "https://localhost:8080/"
        },
        "id": "COHg8u1ieNHJ",
        "outputId": "ecdcb71c-84e3-435b-e941-6ce3802016fb"
      },
      "source": [
        "data.shape"
      ],
      "execution_count": null,
      "outputs": [
        {
          "output_type": "execute_result",
          "data": {
            "text/plain": [
              "(329, 13)"
            ]
          },
          "metadata": {
            "tags": []
          },
          "execution_count": 9
        }
      ]
    },
    {
      "cell_type": "code",
      "metadata": {
        "colab": {
          "base_uri": "https://localhost:8080/"
        },
        "id": "DUhkr4OaebKz",
        "outputId": "1a1a6677-a861-4510-e8ba-e3e23107f704"
      },
      "source": [
        "data.info"
      ],
      "execution_count": null,
      "outputs": [
        {
          "output_type": "execute_result",
          "data": {
            "text/plain": [
              "<bound method DataFrame.info of      language         X1        X2  ...        X10       X11       X12\n",
              "0           0   7.071476 -6.512900  ...  -2.812753  0.866538 -5.244274\n",
              "1           0  10.982967 -5.157445  ...  -4.508811  2.332147 -6.221857\n",
              "2           0   7.827108 -5.477472  ...  -7.204041 -0.011847 -6.463144\n",
              "3           0   6.744083 -5.688920  ...  -6.019237  1.358559 -6.356441\n",
              "4           0   5.836843 -5.326557  ...  -3.644812  2.151239 -6.816310\n",
              "..        ...        ...       ...  ...        ...       ...       ...\n",
              "324         5  -0.525273 -3.868338  ...   7.129909  0.209947 -1.946914\n",
              "325         5  -2.094001 -1.073113  ...   6.728373  2.461446 -0.026113\n",
              "326         5   2.116909 -4.441482  ...   7.566142 -0.606010 -2.245129\n",
              "327         5   0.299616  0.324844  ...   4.664406  1.197789 -2.230275\n",
              "328         5   3.214254 -3.135152  ...  10.605734  0.349482 -5.983281\n",
              "\n",
              "[329 rows x 13 columns]>"
            ]
          },
          "metadata": {
            "tags": []
          },
          "execution_count": 10
        }
      ]
    },
    {
      "cell_type": "code",
      "metadata": {
        "colab": {
          "base_uri": "https://localhost:8080/",
          "height": 570
        },
        "id": "cPiffxNLezJM",
        "outputId": "3e0d6463-061a-4570-b43e-cc282657269e"
      },
      "source": [
        "data.hist(edgecolor='black', linewidth=1.2)\n"
      ],
      "execution_count": null,
      "outputs": [
        {
          "output_type": "execute_result",
          "data": {
            "text/plain": [
              "array([[<matplotlib.axes._subplots.AxesSubplot object at 0x7ff3a6bf6210>,\n",
              "        <matplotlib.axes._subplots.AxesSubplot object at 0x7ff3a6bf6310>,\n",
              "        <matplotlib.axes._subplots.AxesSubplot object at 0x7ff3a6bc6b50>,\n",
              "        <matplotlib.axes._subplots.AxesSubplot object at 0x7ff3a6b8f210>],\n",
              "       [<matplotlib.axes._subplots.AxesSubplot object at 0x7ff3a6b42890>,\n",
              "        <matplotlib.axes._subplots.AxesSubplot object at 0x7ff3a6af7f10>,\n",
              "        <matplotlib.axes._subplots.AxesSubplot object at 0x7ff3a6aba5d0>,\n",
              "        <matplotlib.axes._subplots.AxesSubplot object at 0x7ff3a6aeec50>],\n",
              "       [<matplotlib.axes._subplots.AxesSubplot object at 0x7ff3a6a31090>,\n",
              "        <matplotlib.axes._subplots.AxesSubplot object at 0x7ff3a6a1dfd0>,\n",
              "        <matplotlib.axes._subplots.AxesSubplot object at 0x7ff3a6a292d0>,\n",
              "        <matplotlib.axes._subplots.AxesSubplot object at 0x7ff3a69e2b90>],\n",
              "       [<matplotlib.axes._subplots.AxesSubplot object at 0x7ff3a69a7310>,\n",
              "        <matplotlib.axes._subplots.AxesSubplot object at 0x7ff3a695d590>,\n",
              "        <matplotlib.axes._subplots.AxesSubplot object at 0x7ff3a6911c10>,\n",
              "        <matplotlib.axes._subplots.AxesSubplot object at 0x7ff3a68d42d0>]],\n",
              "      dtype=object)"
            ]
          },
          "metadata": {
            "tags": []
          },
          "execution_count": 11
        },
        {
          "output_type": "display_data",
          "data": {
            "image/png": "[encoded data removed]",
            "text/plain": [
              "<Figure size 432x288 with 16 Axes>"
            ]
          },
          "metadata": {
            "tags": [],
            "needs_background": "light"
          }
        }
      ]
    },
    {
      "cell_type": "code",
      "metadata": {
        "id": "tinRfkY4zt4K"
      },
      "source": [
        "from sklearn.model_selection import train_test_split"
      ],
      "execution_count": null,
      "outputs": []
    },
    {
      "cell_type": "code",
      "metadata": {
        "id": "4wKvnVy90Ij_"
      },
      "source": [
        "from sklearn import metrics #for checking the model accugracy"
      ],
      "execution_count": null,
      "outputs": []
    },
    {
      "cell_type": "code",
      "metadata": {
        "colab": {
          "base_uri": "https://localhost:8080/"
        },
        "id": "tZbKth3k0NxD",
        "outputId": "f149a6f2-784f-449e-feeb-dad9173c3f37"
      },
      "source": [
        "train, test = train_test_split(data, test_size = 0.3)# in this our main data is split into train and test\n",
        "# the attribute test_size=0.3 splits the data into 70% and 30% ratio. train=70% and test=30%\n",
        "print(train.shape)\n",
        "print(test.shape)"
      ],
      "execution_count": null,
      "outputs": [
        {
          "output_type": "stream",
          "text": [
            "(230, 13)\n",
            "(99, 13)\n"
          ],
          "name": "stdout"
        }
      ]
    },
    {
      "cell_type": "code",
      "metadata": {
        "colab": {
          "base_uri": "https://localhost:8080/",
          "height": 49
        },
        "id": "lBAQMjzS0lq6",
        "outputId": "62a383de-cbe0-4fc7-c76b-c6e5bf4e4299"
      },
      "source": [
        "data.head(0)"
      ],
      "execution_count": null,
      "outputs": [
        {
          "output_type": "execute_result",
          "data": {
            "text/html": [
              "<div>\n",
              "<style scoped>\n",
              "    .dataframe tbody tr th:only-of-type {\n",
              "        vertical-align: middle;\n",
              "    }\n",
              "\n",
              "    .dataframe tbody tr th {\n",
              "        vertical-align: top;\n",
              "    }\n",
              "\n",
              "    .dataframe thead th {\n",
              "        text-align: right;\n",
              "    }\n",
              "</style>\n",
              "<table border=\"1\" class=\"dataframe\">\n",
              "  <thead>\n",
              "    <tr style=\"text-align: right;\">\n",
              "      <th></th>\n",
              "      <th>language</th>\n",
              "      <th>X1</th>\n",
              "      <th>X2</th>\n",
              "      <th>X3</th>\n",
              "      <th>X4</th>\n",
              "      <th>X5</th>\n",
              "      <th>X6</th>\n",
              "      <th>X7</th>\n",
              "      <th>X8</th>\n",
              "      <th>X9</th>\n",
              "      <th>X10</th>\n",
              "      <th>X11</th>\n",
              "      <th>X12</th>\n",
              "    </tr>\n",
              "  </thead>\n",
              "  <tbody>\n",
              "  </tbody>\n",
              "</table>\n",
              "</div>"
            ],
            "text/plain": [
              "Empty DataFrame\n",
              "Columns: [language, X1, X2, X3, X4, X5, X6, X7, X8, X9, X10, X11, X12]\n",
              "Index: []"
            ]
          },
          "metadata": {
            "tags": []
          },
          "execution_count": 15
        }
      ]
    },
    {
      "cell_type": "code",
      "metadata": {
        "id": "x1VYX0m20Sde"
      },
      "source": [
        "train_X = train[['X1',\t'X2',\t'X3',\t'X4',\t'X5',\t'X6',\t'X7',\t'X8',\t'X9',\t'X10',\t'X11',\t'X12']]# taking the training data features\n",
        "train_y=train.pop('language') # output of our training data\n",
        "test_X= test[['X1',\t'X2',\t'X3',\t'X4',\t'X5',\t'X6',\t'X7',\t'X8',\t'X9',\t'X10',\t'X11',\t'X12']] # taking test data features\n",
        "test_y =test.pop('language')  #output value of test data"
      ],
      "execution_count": null,
      "outputs": []
    },
    {
      "cell_type": "code",
      "metadata": {
        "colab": {
          "base_uri": "https://localhost:8080/"
        },
        "id": "U-QrbnCe13Fa",
        "outputId": "88b2a2b6-c16f-49d9-edf8-fb11cda56e01"
      },
      "source": [
        "# import necessary modules\n",
        "from sklearn import preprocessing\n",
        "print(preprocessing.normalize(train_X))\n",
        "print(preprocessing.normalize(test_X))"
      ],
      "execution_count": null,
      "outputs": [
        {
          "output_type": "stream",
          "text": [
            "[[ 0.34666211 -0.25214357 -0.084842   ... -0.09660814  0.15619932\n",
            "  -0.10964423]\n",
            " [ 0.19719913 -0.11920812  0.04758071 ... -0.1466085   0.27325523\n",
            "  -0.10877439]\n",
            " [ 0.44561708 -0.29865264  0.01476157 ... -0.16639714  0.23390467\n",
            "  -0.07187187]\n",
            " ...\n",
            " [ 0.44962412 -0.22365056  0.11772252 ... -0.08411551  0.02331019\n",
            "  -0.1165764 ]\n",
            " [ 0.04549683  0.03958428  0.0201697  ... -0.11308227  0.05476087\n",
            "  -0.25040305]\n",
            " [ 0.27178927 -0.25032063  0.29405536 ... -0.108107    0.03330502\n",
            "  -0.20156152]]\n",
            "[[ 0.15145732 -0.28433146  0.24656807 ... -0.11280124  0.13030882\n",
            "  -0.32346884]\n",
            " [ 0.49029948 -0.22011962  0.07873423 ... -0.15303233  0.18846146\n",
            "  -0.33950775]\n",
            " [ 0.38863372 -0.15009221  0.32834934 ...  0.51873717 -0.4387428\n",
            "   0.1170963 ]\n",
            " ...\n",
            " [ 0.47692311 -0.29730758  0.19044513 ... -0.10132578  0.10713389\n",
            "  -0.44252823]\n",
            " [ 0.33392198 -0.26768502  0.05007746 ... -0.26619409  0.09223398\n",
            "  -0.23799986]\n",
            " [ 0.11602793  0.16365188  0.0051936  ... -0.24918329  0.17740369\n",
            "  -0.25011108]]\n"
          ],
          "name": "stdout"
        }
      ]
    },
    {
      "cell_type": "code",
      "metadata": {
        "colab": {
          "base_uri": "https://localhost:8080/",
          "height": 766
        },
        "id": "bUJC2k_-hlCc",
        "outputId": "0d872d5d-9419-432d-f62a-7c530f4643a8"
      },
      "source": [
        "train_X.hist(edgecolor='black', linewidth=1.2)\n",
        "test_X.hist(edgecolor='black', linewidth=1.2)\n"
      ],
      "execution_count": null,
      "outputs": [
        {
          "output_type": "execute_result",
          "data": {
            "text/plain": [
              "array([[<matplotlib.axes._subplots.AxesSubplot object at 0x7ff3a5658a90>,\n",
              "        <matplotlib.axes._subplots.AxesSubplot object at 0x7ff3a5658b90>,\n",
              "        <matplotlib.axes._subplots.AxesSubplot object at 0x7ff3a5617410>],\n",
              "       [<matplotlib.axes._subplots.AxesSubplot object at 0x7ff3a55cea90>,\n",
              "        <matplotlib.axes._subplots.AxesSubplot object at 0x7ff3a5581f50>,\n",
              "        <matplotlib.axes._subplots.AxesSubplot object at 0x7ff3a55457d0>],\n",
              "       [<matplotlib.axes._subplots.AxesSubplot object at 0x7ff3a54fae50>,\n",
              "        <matplotlib.axes._subplots.AxesSubplot object at 0x7ff3a54be510>,\n",
              "        <matplotlib.axes._subplots.AxesSubplot object at 0x7ff3a54aaf50>],\n",
              "       [<matplotlib.axes._subplots.AxesSubplot object at 0x7ff3a5436050>,\n",
              "        <matplotlib.axes._subplots.AxesSubplot object at 0x7ff3a54714d0>,\n",
              "        <matplotlib.axes._subplots.AxesSubplot object at 0x7ff3a5425a50>]],\n",
              "      dtype=object)"
            ]
          },
          "metadata": {
            "tags": []
          },
          "execution_count": 18
        },
        {
          "output_type": "display_data",
          "data": {
            "image/png": "[encoded data removed]",
            "text/plain": [
              "<Figure size 432x288 with 12 Axes>"
            ]
          },
          "metadata": {
            "tags": [],
            "needs_background": "light"
          }
        },
        {
          "output_type": "display_data",
          "data": {
            "image/png": "[encoded data removed]",
            "text/plain": [
              "<Figure size 432x288 with 12 Axes>"
            ]
          },
          "metadata": {
            "tags": [],
            "needs_background": "light"
          }
        }
      ]
    },
    {
      "cell_type": "code",
      "metadata": {
        "colab": {
          "base_uri": "https://localhost:8080/"
        },
        "id": "YoCs0Bvs1-Ic",
        "outputId": "2687507c-5ded-4993-e963-685bb1d8b8c4"
      },
      "source": [
        "print(train_X)"
      ],
      "execution_count": null,
      "outputs": [
        {
          "output_type": "stream",
          "text": [
            "            X1        X2        X3  ...       X10       X11       X12\n",
            "308   7.883104 -5.733750 -1.929309  ... -2.196871  3.551976 -2.493312\n",
            "193   4.552812 -2.752203  1.098514  ... -3.384806  6.308748 -2.511316\n",
            "214  11.456458 -7.678120  0.379508  ... -4.277937  6.013502 -1.847768\n",
            "9     9.803577 -4.485605  9.092753  ... -9.935106  2.556851 -5.887197\n",
            "279   2.806915 -3.639327 -0.807013  ... -2.791867  6.749552 -2.507010\n",
            "..         ...       ...       ...  ...       ...       ...       ...\n",
            "211  12.707481 -8.669480  2.941209  ... -4.445257  0.153617 -5.380385\n",
            "91    2.718099 -5.837986  3.822594  ... -3.803533 -0.682318 -2.361943\n",
            "298  12.752537 -6.343325  3.338924  ... -2.385740  0.661139 -3.306417\n",
            "125   0.900426  0.783411  0.399178  ... -2.238008  1.083771 -4.955720\n",
            "0     7.071476 -6.512900  7.650800  ... -2.812753  0.866538 -5.244274\n",
            "\n",
            "[230 rows x 12 columns]\n"
          ],
          "name": "stdout"
        }
      ]
    },
    {
      "cell_type": "code",
      "metadata": {
        "colab": {
          "base_uri": "https://localhost:8080/"
        },
        "id": "DGm8LuLC2CWb",
        "outputId": "bf82389c-9d4a-4cb1-c7cb-becb077dcee4"
      },
      "source": [
        "print(train_y)"
      ],
      "execution_count": null,
      "outputs": [
        {
          "output_type": "stream",
          "text": [
            "308    5\n",
            "193    5\n",
            "214    5\n",
            "9      0\n",
            "279    5\n",
            "      ..\n",
            "211    5\n",
            "91     3\n",
            "298    5\n",
            "125    4\n",
            "0      0\n",
            "Name: language, Length: 230, dtype: int64\n"
          ],
          "name": "stdout"
        }
      ]
    },
    {
      "cell_type": "code",
      "metadata": {
        "id": "MoR4bial2Ja0"
      },
      "source": [
        "from sklearn.neural_network import MLPClassifier\n",
        "classifier3=MLPClassifier(hidden_layer_sizes=(100,100,100))"
      ],
      "execution_count": null,
      "outputs": []
    },
    {
      "cell_type": "code",
      "metadata": {
        "colab": {
          "base_uri": "https://localhost:8080/"
        },
        "id": "HByINy6P2OTX",
        "outputId": "e3a4adb1-d64a-4ca7-fde3-04d5564ae969"
      },
      "source": [
        "classifier3.fit(train_X,train_y)"
      ],
      "execution_count": null,
      "outputs": [
        {
          "output_type": "stream",
          "text": [
            "/usr/local/lib/python3.7/dist-packages/sklearn/neural_network/_multilayer_perceptron.py:571: ConvergenceWarning: Stochastic Optimizer: Maximum iterations (200) reached and the optimization hasn't converged yet.\n",
            "  % self.max_iter, ConvergenceWarning)\n"
          ],
          "name": "stderr"
        },
        {
          "output_type": "execute_result",
          "data": {
            "text/plain": [
              "MLPClassifier(activation='relu', alpha=0.0001, batch_size='auto', beta_1=0.9,\n",
              "              beta_2=0.999, early_stopping=False, epsilon=1e-08,\n",
              "              hidden_layer_sizes=(100, 100, 100), learning_rate='constant',\n",
              "              learning_rate_init=0.001, max_fun=15000, max_iter=200,\n",
              "              momentum=0.9, n_iter_no_change=10, nesterovs_momentum=True,\n",
              "              power_t=0.5, random_state=None, shuffle=True, solver='adam',\n",
              "              tol=0.0001, validation_fraction=0.1, verbose=False,\n",
              "              warm_start=False)"
            ]
          },
          "metadata": {
            "tags": []
          },
          "execution_count": 22
        }
      ]
    },
    {
      "cell_type": "code",
      "metadata": {
        "colab": {
          "base_uri": "https://localhost:8080/",
          "height": 295
        },
        "id": "RjRTVVDn2Sd1",
        "outputId": "f0f844f8-6f64-48a0-9152-03112191ccb2"
      },
      "source": [
        "import matplotlib.pyplot as plt\n",
        "plt.ylabel('cost')\n",
        "plt.xlabel('iterations')\n",
        "plt.title(\"Learning rate =\" + str(0.001))\n",
        "plt.plot(classifier3.loss_curve_)\n",
        "plt.show()\n",
        "\n"
      ],
      "execution_count": null,
      "outputs": [
        {
          "output_type": "display_data",
          "data": {
            "image/png": "[encoded data removed]",
            "text/plain": [
              "<Figure size 432x288 with 1 Axes>"
            ]
          },
          "metadata": {
            "tags": [],
            "needs_background": "light"
          }
        }
      ]
    },
    {
      "cell_type": "code",
      "metadata": {
        "id": "bUrsRYMZ2WU7"
      },
      "source": [
        "predictions3=classifier3.predict(test_X)"
      ],
      "execution_count": null,
      "outputs": []
    },
    {
      "cell_type": "code",
      "metadata": {
        "colab": {
          "base_uri": "https://localhost:8080/"
        },
        "id": "k16VuJUd2aOr",
        "outputId": "815815cc-a929-4e5e-d3f8-87ee5cde3757"
      },
      "source": [
        "from sklearn.metrics import accuracy_score\n",
        "print(accuracy_score(test_y,predictions3))"
      ],
      "execution_count": null,
      "outputs": [
        {
          "output_type": "stream",
          "text": [
            "0.8080808080808081\n"
          ],
          "name": "stdout"
        }
      ]
    },
    {
      "cell_type": "code",
      "metadata": {
        "id": "9KoKRyHB2fY4"
      },
      "source": [
        "from sklearn.metrics import confusion_matrix"
      ],
      "execution_count": null,
      "outputs": []
    },
    {
      "cell_type": "code",
      "metadata": {
        "colab": {
          "base_uri": "https://localhost:8080/"
        },
        "id": "3jhi4x_D2iGb",
        "outputId": "a9285ab8-3bda-4216-8aef-fb40be0d82f7"
      },
      "source": [
        "cm = confusion_matrix(test_y,predictions3)\n",
        "print(cm)"
      ],
      "execution_count": null,
      "outputs": [
        {
          "output_type": "stream",
          "text": [
            "[[10  0  0  0  1  4]\n",
            " [ 0  4  0  0  0  2]\n",
            " [ 0  0  7  0  0  3]\n",
            " [ 0  1  2  5  0  0]\n",
            " [ 0  0  0  1 11  2]\n",
            " [ 0  1  1  0  1 43]]\n"
          ],
          "name": "stdout"
        }
      ]
    },
    {
      "cell_type": "code",
      "metadata": {
        "colab": {
          "base_uri": "https://localhost:8080/",
          "height": 263
        },
        "id": "oFeKR3i6icb8",
        "outputId": "66f4dce9-c2e9-4231-d782-c41b21062810"
      },
      "source": [
        "import matplotlib.pyplot as plt\n",
        "plt.matshow(cm)\n",
        "plt.title('Confusion matrix')\n",
        "plt.colorbar()\n",
        "plt.ylabel('True label')\n",
        "plt.xlabel('Predicted label')\n",
        "plt.show()"
      ],
      "execution_count": null,
      "outputs": [
        {
          "output_type": "display_data",
          "data": {
            "image/png": "[encoded data removed]",
            "text/plain": [
              "<Figure size 288x288 with 2 Axes>"
            ]
          },
          "metadata": {
            "tags": [],
            "needs_background": "light"
          }
        }
      ]
    }
  ]
}